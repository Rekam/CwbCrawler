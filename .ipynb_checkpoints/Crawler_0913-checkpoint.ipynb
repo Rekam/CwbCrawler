{
 "cells": [
  {
   "cell_type": "markdown",
   "metadata": {},
   "source": [
    "### 主程式\n",
    "1. 設定資料庫 & 爬蟲設定\n",
    "2. 顯示UI\n",
    "3. 使用者操作\n",
    "4. 讀取資料庫顯示在UI上"
   ]
  },
  {
   "cell_type": "code",
   "execution_count": 1,
   "metadata": {},
   "outputs": [
    {
     "name": "stdout",
     "output_type": "stream",
     "text": [
      "資料夾存在\n",
      "Database Opened successfully\n",
      "County, Table existed\n",
      "Station, Table does not exist\n",
      "Station, Table created\n"
     ]
    }
   ],
   "source": [
    "from sqlDB import sqlDB\n",
    "from crawler3 import cwb\n",
    "from datetime import date, datetime, timedelta\n",
    "from dateutil.relativedelta import relativedelta\n",
    "\n",
    "\n",
    "from ipywidgets.widgets import Button, DatePicker, Dropdown, Label\n",
    "from ipywidgets.widgets import Layout, HBox, VBox\n",
    "from IPython.display import display, clear_output\n",
    "\n",
    "# 設定下載日期範圍\n",
    "start_date = date(2021,9,1)\n",
    "end_date =date.today()\n",
    "# 設定下載路徑\n",
    "downloadFolder = r'C:\\Downloads\\cwb'\n",
    "# 設定想要下載的測站\n",
    "targetList = []\n",
    "targetList.append('福山植物園')\n",
    "\n",
    "# 創立物件 (cwb類別)\n",
    "cwbInstance = cwb()\n",
    "# 創建物件 (sqlDB類別)\n",
    "dbInstance = sqlDB(\"cwb\")\n"
   ]
  },
  {
   "cell_type": "code",
   "execution_count": 2,
   "metadata": {},
   "outputs": [],
   "source": [
    "def show_Widget():\n",
    "    ### Box1, Box2\n",
    "    # 初始化 Button\n",
    "    btn_initial = Button(\n",
    "    description ='初始化',\n",
    "    icon='bug',\n",
    "    button_style='warning',\n",
    "    layout=Layout(width='100px')\n",
    "    )\n",
    "    # 下載 Button\n",
    "    btn_download = Button(\n",
    "        description ='下載',\n",
    "        icon='download',\n",
    "        button_style='warning',\n",
    "        layout=Layout(width='100px')\n",
    "    )\n",
    "    # 顯示Table\n",
    "    btn_table = Button(\n",
    "        description ='表格',\n",
    "        icon='table',\n",
    "        button_style='warning',\n",
    "        layout=Layout(width='100px')\n",
    "    )\n",
    "    # 顯示曲線圖\n",
    "    btn_chart = Button(\n",
    "        description ='曲線圖',\n",
    "        icon='line-chart',\n",
    "        button_style='warning',\n",
    "        layout=Layout(width='100px')\n",
    "    )\n",
    "    \n",
    "    # 下拉式選單 Dropdown\n",
    "    drop_county = Dropdown(\n",
    "        options=dbInstance.getTableList(\"County\"),\n",
    "        description='城市',\n",
    "        disabled = False,\n",
    "        layout=Layout(width='auto', align_items='center')\n",
    "\n",
    "    )\n",
    "    # 下拉式選單 Dropdown\n",
    "    drop_station = Dropdown(\n",
    "        options = dbInstance.getStationListatCounty(\"Station\",0),\n",
    "        description='測站',\n",
    "        disabled = False,\n",
    "        layout=Layout(width='auto', align_items='center')\n",
    "    )\n",
    "    \n",
    "    # 選擇日期\n",
    "    date_picker_from = DatePicker(\n",
    "        description='日期從',\n",
    "        disabled=False,\n",
    "        value = datetime.now().date()-relativedelta(months=1)-timedelta(days=1)\n",
    "    )\n",
    "    # 選擇日期\n",
    "    date_picker_to = DatePicker(\n",
    "        description='日期至',\n",
    "        disabled=True,\n",
    "        value = datetime.now().date()-timedelta(days=1)\n",
    "    )\n",
    "    \n",
    "    # Button click Event\n",
    "    def initial_click(b):\n",
    "        cwbInstance.openBrowser()\n",
    "        cwbInstance.getAllSelect()\n",
    "        print('創建物件耶耶 上網瞜!!!')\n",
    "        # 放置資料庫的Table (County)\n",
    "        dbInstance.deleteTableAllRows(\"County\")\n",
    "        dbInstance.insertCountyTable(cwbInstance)\n",
    "        # 放置資料庫的Table (Station)\n",
    "        dbInstance.deleteTableAllRows(\"Station\")\n",
    "        dbInstance.insertStationTable(cwbInstance)\n",
    "        # 清除畫面 重新顯示\n",
    "        clear_output()\n",
    "        show_Widget()\n",
    "        \n",
    "    def download_click(b):\n",
    "        #clear_output()\n",
    "        # 取得選取CountyIndex\n",
    "        countyIndex = drop_county.options[drop_county.value][1] \n",
    "        # 取得選取SationName\n",
    "        stationName = drop_station.value\n",
    "        # 去資料庫撈取StationCode\n",
    "        print(countyIndex)\n",
    "        print(stationName)\n",
    "        dbInstance.cursorObj.execute(f\" Select StationCode from Station where CountyIndex={countyIndex} and StationName Like '%{stationName}%'\")\n",
    "        print(dbInstance.cursorObj.fetchall())\n",
    "        \n",
    "        # 清除畫面 重新顯示\n",
    "        #clear_output()\n",
    "        #show_Widget()\n",
    "        \n",
    "        \n",
    "        \n",
    "    \n",
    "    # Dropdown Event\n",
    "    def show_station(a):\n",
    "        drop_station.options = dbInstance.getStationListatCounty(\"Station\", drop_county.value)    \n",
    "    \n",
    "    btn_initial.on_click(initial_click)\n",
    "    btn_download.on_click(download_click)\n",
    "    drop_county.observe(show_station)\n",
    "    \n",
    "    # https://developer.mozilla.org/en-US/docs/Web/CSS/CSS_Flexible_Box_Layout/Aligning_Items_in_a_Flex_Container\n",
    "    box_layout_column = Layout(width='80%', display='flex', flex_flow='column', justify_content='space-around', align_items='flex-start')\n",
    "    box_layout_column2 = Layout(width='80%', display='flex', flex_flow='column', justify_content='space-around', align_items='center')\n",
    "    \n",
    "    box_layout_row = Layout(width='80%', display='flex', flex_flow='row', justify_content='space-between', align_items='center')\n",
    "    \n",
    "    V_items1 = [drop_county, drop_station]\n",
    "    V_items2 = [date_picker_from, date_picker_to]\n",
    "    \n",
    "    V_items3 = [btn_initial, btn_download]\n",
    "    V_items4 = [btn_table, btn_chart]\n",
    "    \n",
    "    H_items1 = [VBox(V_items1, layout = box_layout_column), VBox(V_items3, layout = box_layout_column)]\n",
    "    H_items2 = [VBox(V_items2, layout = box_layout_column), VBox(V_items4, layout = box_layout_column)]\n",
    "\n",
    "    Box1 = HBox(H_items1, layout = box_layout_row)\n",
    "    Box2 = HBox(H_items2, layout = box_layout_row)\n",
    "\n",
    "    display(VBox([Box1,Box2]),layout = box_layout_column)\n",
    "    \n"
   ]
  },
  {
   "cell_type": "code",
   "execution_count": 3,
   "metadata": {},
   "outputs": [
    {
     "data": {
      "application/vnd.jupyter.widget-view+json": {
       "model_id": "10465a7228594fa591451af0acaefc7f",
       "version_major": 2,
       "version_minor": 0
      },
      "text/plain": [
       "VBox(children=(HBox(children=(VBox(children=(Dropdown(description='城市', layout=Layout(align_items='center', wi…"
      ]
     },
     "metadata": {},
     "output_type": "display_data"
    }
   ],
   "source": [
    "show_Widget()"
   ]
  },
  {
   "cell_type": "code",
   "execution_count": null,
   "metadata": {},
   "outputs": [],
   "source": [
    "cwbInstance.downloadFolder = downloadFolder\n",
    "cwbInstance.downloadList(targetList, start_date, end_date)"
   ]
  },
  {
   "cell_type": "code",
   "execution_count": null,
   "metadata": {},
   "outputs": [],
   "source": [
    "cwbInstance.allStations"
   ]
  },
  {
   "cell_type": "code",
   "execution_count": null,
   "metadata": {},
   "outputs": [],
   "source": [
    "# 開啟下載的csv整理後存入db裏頭\n",
    "import pandas as pd\n",
    "filepath = \"C:\\Downloads\\cwb\\新北市_福山植物園 (Fushan Botanical Garden)_C0AH90\\C0AH90-2021-09-05.csv\"\n",
    "df = pd.read_csv(filepath, parse_dates=True)\n",
    "df"
   ]
  },
  {
   "cell_type": "code",
   "execution_count": null,
   "metadata": {},
   "outputs": [],
   "source": []
  }
 ],
 "metadata": {
  "kernelspec": {
   "display_name": "Python 3",
   "language": "python",
   "name": "python3"
  },
  "language_info": {
   "codemirror_mode": {
    "name": "ipython",
    "version": 3
   },
   "file_extension": ".py",
   "mimetype": "text/x-python",
   "name": "python",
   "nbconvert_exporter": "python",
   "pygments_lexer": "ipython3",
   "version": "3.8.5"
  }
 },
 "nbformat": 4,
 "nbformat_minor": 4
}
